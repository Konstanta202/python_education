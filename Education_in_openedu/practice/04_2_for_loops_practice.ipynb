{
 "cells": [
  {
   "cell_type": "markdown",
   "metadata": {},
   "source": [
    "# 1. Заполните пропуски\n",
    "Заполните пропуски в коде ниже `____`, чтобы из списка `words` получить список `upper_case_words`\n",
    "\n",
    "По блоку с методом `assert` догадайтесь, по какому принципу должны отфильтровываться слова"
   ]
  },
  {
   "cell_type": "code",
   "execution_count": 1,
   "metadata": {
    "ExecuteTime": {
     "end_time": "2024-10-20T14:52:58.870200Z",
     "start_time": "2024-10-20T14:52:58.862074Z"
    }
   },
   "outputs": [
    {
     "data": {
      "text/plain": "['PYTHON', 'JOHN', 'DOE']"
     },
     "execution_count": 1,
     "metadata": {},
     "output_type": "execute_result"
    }
   ],
   "source": [
    "words = ['PYTHON', 'JOHN', 'chEEse', 'hAm', 'DOE', '123']\n",
    "upper_case_words = []\n",
    "\n",
    "for word in words:\n",
    "    if word.isupper():\n",
    "        upper_case_words.append(word)\n",
    "        \n",
    "upper_case_words"
   ]
  },
  {
   "cell_type": "code",
   "execution_count": 2,
   "metadata": {
    "ExecuteTime": {
     "end_time": "2024-10-20T14:53:00.891585Z",
     "start_time": "2024-10-20T14:53:00.885305Z"
    }
   },
   "outputs": [],
   "source": [
    "# проверим\n",
    "assert upper_case_words == ['PYTHON', 'JOHN', 'DOE']"
   ]
  },
  {
   "cell_type": "markdown",
   "metadata": {},
   "source": [
    "# 2. Посчитайте сумму значений словаря\n",
    "Посчитайте сумму значений в словаре `magic_dict`, учтя в ней только численные знаяения \n",
    "\n",
    "Подсказка: см., как работает метод [isinstance](https://docs.python.org/3/library/functions.html#isinstance).\n",
    "\n",
    "Очевидно, Вам следует отфильтровывать целые числа и числа с плавающей запятой, т.е. `float | int`\n",
    "\n",
    "Цикл `for` должен перебирать значения словаря, а не его ключи.\n",
    "Для этого используйте на словаре `magic_dict` метод `.values()`"
   ]
  },
  {
   "cell_type": "markdown",
   "source": [],
   "metadata": {
    "collapsed": false
   }
  },
  {
   "cell_type": "code",
   "execution_count": 16,
   "metadata": {
    "ExecuteTime": {
     "end_time": "2024-10-20T15:25:55.332019Z",
     "start_time": "2024-10-20T15:25:55.325490Z"
    }
   },
   "outputs": [],
   "source": [
    "magic_dict = dict(val1=44, val2='secret value', val3=55.0, val4=1)"
   ]
  },
  {
   "cell_type": "code",
   "outputs": [
    {
     "name": "stdout",
     "output_type": "stream",
     "text": [
      "100.0\n"
     ]
    }
   ],
   "source": [
    "# Ваше решение\n",
    "\n",
    "# в эту переменную будем \"складывать, суммировать\" значения словаряsum_of_values = 0\n",
    "for value in magic_dict.values():\n",
    "    if isinstance(value,(int,float)):\n",
    "        sum_of_values = sum_of_values + value\n",
    "print(sum_of_values)\n"
   ],
   "metadata": {
    "ExecuteTime": {
     "end_time": "2024-10-20T15:25:56.171972Z",
     "start_time": "2024-10-20T15:25:56.162236Z"
    }
   },
   "execution_count": 17
  },
  {
   "cell_type": "code",
   "execution_count": 18,
   "metadata": {
    "ExecuteTime": {
     "end_time": "2024-10-20T15:26:00.269765Z",
     "start_time": "2024-10-20T15:26:00.253114Z"
    }
   },
   "outputs": [],
   "source": [
    "# Проверим\n",
    "assert sum_of_values == 100"
   ]
  },
  {
   "cell_type": "markdown",
   "metadata": {},
   "source": [
    "# 3. Создайте список строк из списка чисел\n",
    "Правила:\n",
    "* Если число кратно пяти и нечетно, замените его строкой `'five odd'`\n",
    "* Если число кратно пяти и чётно,   замените его строкой `'five even'`\n",
    "* Если число нечетное, замените его строкой быть `'odd'`\n",
    "* Если число четное, замените его строкой `'even'`"
   ]
  },
  {
   "cell_type": "code",
   "execution_count": 30,
   "metadata": {
    "ExecuteTime": {
     "end_time": "2024-10-20T15:54:58.437216Z",
     "start_time": "2024-10-20T15:54:58.431474Z"
    }
   },
   "outputs": [],
   "source": [
    "numbers = [1, 3, 4, 6, 81, 80, 100, 95]"
   ]
  },
  {
   "cell_type": "code",
   "execution_count": 31,
   "metadata": {
    "ExecuteTime": {
     "end_time": "2024-10-20T15:54:58.955065Z",
     "start_time": "2024-10-20T15:54:58.948558Z"
    }
   },
   "outputs": [
    {
     "data": {
      "text/plain": "list"
     },
     "execution_count": 31,
     "metadata": {},
     "output_type": "execute_result"
    }
   ],
   "source": [
    "def number_indicator(number):\n",
    "    if number % 5 == 0:\n",
    "        if number % 2 == 0:\n",
    "            return 'five even'\n",
    "        else:\n",
    "            return 'five odd'\n",
    "    elif number % 2 == 0:\n",
    "        return 'even'\n",
    "    else:\n",
    "        return 'odd'\n",
    "# Ваше решение\n",
    "my_list = [number_indicator(x) for x in numbers]\n",
    "my_list\n",
    "type(my_list)"
   ]
  },
  {
   "cell_type": "code",
   "execution_count": 32,
   "metadata": {
    "ExecuteTime": {
     "end_time": "2024-10-20T15:54:59.921600Z",
     "start_time": "2024-10-20T15:54:59.914094Z"
    }
   },
   "outputs": [],
   "source": [
    "# проверим\n",
    "assert my_list == ['odd', 'odd', 'even', 'even', 'odd', 'five even', 'five even', 'five odd']"
   ]
  },
  {
   "cell_type": "code",
   "outputs": [],
   "source": [],
   "metadata": {
    "collapsed": false
   }
  }
 ],
 "metadata": {
  "kernelspec": {
   "display_name": "Python 3.10.8 64-bit (microsoft store)",
   "language": "python",
   "name": "python3"
  },
  "language_info": {
   "codemirror_mode": {
    "name": "ipython",
    "version": 3
   },
   "file_extension": ".py",
   "mimetype": "text/x-python",
   "name": "python",
   "nbconvert_exporter": "python",
   "pygments_lexer": "ipython3",
   "version": "3.10.8"
  },
  "vscode": {
   "interpreter": {
    "hash": "7b1f2b33e866b0bf2409397e5f58ba9cdf170d3b7f64c8f359c79998e2f88ad4"
   }
  }
 },
 "nbformat": 4,
 "nbformat_minor": 2
}
