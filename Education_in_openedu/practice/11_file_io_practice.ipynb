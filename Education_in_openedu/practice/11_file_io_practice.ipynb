{
 "cells": [
  {
   "cell_type": "markdown",
   "metadata": {},
   "source": [
    "# Подготовка данных, создание файла"
   ]
  },
  {
   "cell_type": "code",
   "execution_count": 30,
   "metadata": {
    "ExecuteTime": {
     "end_time": "2024-11-06T22:43:12.046353Z",
     "start_time": "2024-11-06T22:43:12.032616Z"
    }
   },
   "outputs": [],
   "source": [
    "# не забудьте сначала выполнить этот блок!\n",
    "# модуль os позволяет вам работать с операционной системой (Windows/Linux/Mac OS)\n",
    "import os"
   ]
  },
  {
   "cell_type": "code",
   "execution_count": 31,
   "metadata": {
    "ExecuteTime": {
     "end_time": "2024-11-06T22:43:12.446118Z",
     "start_time": "2024-11-06T22:43:12.439897Z"
    }
   },
   "outputs": [],
   "source": [
    "# эта функция определяет путь до директории (папки) от которой интерпрететор будет\n",
    "# \"отсчитывать\" относительные пути. Т.е. это та папка, в которой находится ваш Python-скрипт\n",
    "dir_script = os.getcwd()\n",
    "\n",
    "# папка и файлы, которые мы создадим с помощью Python, и с которыми будем работать\n",
    "data_folder = 'data_file_io_exercise'\n",
    "data_file_1 = \"numbers.txt\"\n",
    "data_file_2 = \"simple_file.txt\"\n",
    "data_file_3 = \"simple_file_with_empty_lines.txt\"\n",
    "\n",
    "# метод join \"склеивает\" несколько путей до файлов или папок\n",
    "dir_path = os.path.join(dir_script, data_folder)\n",
    "file_1_path = os.path.join(dir_path, data_file_1)\n",
    "file_2_path = os.path.join(dir_path, data_file_2)\n",
    "file_3_path = os.path.join(dir_path, data_file_3)"
   ]
  },
  {
   "cell_type": "code",
   "execution_count": 32,
   "metadata": {
    "ExecuteTime": {
     "end_time": "2024-11-06T22:43:12.855885Z",
     "start_time": "2024-11-06T22:43:12.851539Z"
    }
   },
   "outputs": [
    {
     "data": {
      "text/plain": "'/Users/konstantineskalisusov/PycharmProjects/Education/Education_in_openedu/practice/data_file_io_exercise'"
     },
     "execution_count": 32,
     "metadata": {},
     "output_type": "execute_result"
    }
   ],
   "source": [
    "# как видите, мы построили абсолютный путь до папки, \"склеив\" два пути\n",
    "dir_path"
   ]
  },
  {
   "cell_type": "code",
   "execution_count": 33,
   "metadata": {
    "ExecuteTime": {
     "end_time": "2024-11-06T22:43:13.542690Z",
     "start_time": "2024-11-06T22:43:13.537412Z"
    }
   },
   "outputs": [],
   "source": [
    "# запишем в файлы такую вот строку\n",
    "\n",
    "file_1_input_string = \"\"\"1\n",
    "2.5\n",
    "16\n",
    "4\n",
    "5\n",
    "12\n",
    "15\n",
    "16\n",
    "18\n",
    "100\"\"\"\n",
    "\n",
    "file_2_input_string = \"\"\"First line\n",
    "Second line\n",
    "Third\n",
    "And so the story goes!\"\"\"\n",
    "\n",
    "file_3_input_string = \"\"\"The Title of the Story\n",
    "\n",
    "First paragraph with some\n",
    "nonsense words.\n",
    "\n",
    "Then we move to second paragraph and so on.\"\"\""
   ]
  },
  {
   "cell_type": "code",
   "execution_count": 34,
   "metadata": {
    "ExecuteTime": {
     "end_time": "2024-11-06T22:43:14.590464Z",
     "start_time": "2024-11-06T22:43:14.582536Z"
    }
   },
   "outputs": [],
   "source": [
    "# создадим папку, если она ещё не создана\n",
    "os.makedirs(dir_path, exist_ok=True)\n",
    "\n",
    "# запишем в файл строку с числами\n",
    "with open(file_1_path, \"w\") as f:\n",
    "    f.write(file_1_input_string)\n",
    "    \n",
    "# а в остальные - со словами\n",
    "with open(file_2_path, \"w\") as f:\n",
    "    f.write(file_2_input_string)\n",
    "    \n",
    "# запишем в файл строку с числами\n",
    "with open(file_3_path, \"w\") as f:\n",
    "    f.write(file_3_input_string)"
   ]
  },
  {
   "cell_type": "markdown",
   "metadata": {},
   "source": [
    "Заметьте, в директории с вашим скриптом появилась папка.\n",
    "\n",
    "А в ней - 3 текстовых файла.\n",
    "\n",
    "Изучите их содержимое"
   ]
  },
  {
   "cell_type": "markdown",
   "metadata": {},
   "source": [
    "# 1. Просуммировать числа, записанные в файле\n",
    "Заполните пропуски `____` в коде ниже.\n",
    "\n",
    "Дополните функцию `sum_numbers_in_file`, которая в качестве аргумента использует путь до файла, читает числа, записанные в этом файле, и возвращает их сумму.\n",
    "\n",
    "Пусть для простоты в каждой строке файла содержится одно и только одно число."
   ]
  },
  {
   "cell_type": "code",
   "execution_count": 37,
   "metadata": {
    "ExecuteTime": {
     "end_time": "2024-11-06T22:43:31.141266Z",
     "start_time": "2024-11-06T22:43:31.128610Z"
    }
   },
   "outputs": [],
   "source": [
    "def sum_numbers_in_file(input_file):\n",
    "    # подчёркивание после название переменной часто используют, чтобы\n",
    "    # название переменной не совпало с названием встроенной функции (sum)    \n",
    "    sum_ = 0\n",
    "    with open(input_file, 'r+') as file:\n",
    "        for line in file:\n",
    "            line_stripped = line.strip()  # убираем потенциальные пробелы слева-справа в строке\n",
    "            sum_ += float(line_stripped)\n",
    "    \n",
    "    return sum_"
   ]
  },
  {
   "cell_type": "code",
   "execution_count": 38,
   "metadata": {
    "ExecuteTime": {
     "end_time": "2024-11-06T22:43:31.649847Z",
     "start_time": "2024-11-06T22:43:31.641766Z"
    }
   },
   "outputs": [
    {
     "name": "stdout",
     "output_type": "stream",
     "text": [
      "189.5\n"
     ]
    }
   ],
   "source": [
    "print(sum_numbers_in_file(file_1_path))\n",
    "assert(sum_numbers_in_file(file_1_path) == 189.5)"
   ]
  },
  {
   "cell_type": "markdown",
   "metadata": {},
   "source": [
    "# 2. Чтение первого слова в каждой строке файла\n",
    "Создайте функцию `find_first_words`, которая в качестве аргумента использует путь до файла. Функция должна найти первое слово в каждой строке файла, и вернуть эти слова в виде списка.\n",
    "\n",
    "Если строка пустая, то функция возвращает пустую строку, т.е. `\"\"`"
   ]
  },
  {
   "cell_type": "code",
   "execution_count": 57,
   "metadata": {
    "ExecuteTime": {
     "end_time": "2024-11-06T23:06:05.787858Z",
     "start_time": "2024-11-06T23:06:05.780344Z"
    }
   },
   "outputs": [],
   "source": [
    "def find_first_words(path):\n",
    "    list_result = []\n",
    "    with open(path, 'r+') as file:\n",
    "        for line in file:\n",
    "            if line == '\\n':\n",
    "                list_result.append('')\n",
    "            else:\n",
    "                line_stripped = list(line.split())\n",
    "                list_result.append(line_stripped[0])\n",
    "    return list_result\n",
    "    \n",
    "    # напишите здесь Ваше решение"
   ]
  },
  {
   "cell_type": "code",
   "execution_count": 58,
   "metadata": {
    "ExecuteTime": {
     "end_time": "2024-11-06T23:06:06.296340Z",
     "start_time": "2024-11-06T23:06:06.292653Z"
    }
   },
   "outputs": [
    {
     "name": "stdout",
     "output_type": "stream",
     "text": [
      "['The', '', 'First', 'nonsense', '', 'Then']\n"
     ]
    }
   ],
   "source": [
    "expected_file_1 = ['First', 'Second', 'Third', 'And']\n",
    "assert(find_first_words(file_2_path) == expected_file_1)\n",
    "\n",
    "expected_file_2 = ['The', '', 'First', 'nonsense', '', 'Then']\n",
    "\n",
    "assert(find_first_words(file_3_path) == expected_file_2)"
   ]
  },
  {
   "cell_type": "code",
   "outputs": [],
   "source": [],
   "metadata": {
    "collapsed": false
   }
  }
 ],
 "metadata": {
  "kernelspec": {
   "display_name": "Python 3.10.8 64-bit (microsoft store)",
   "language": "python",
   "name": "python3"
  },
  "language_info": {
   "codemirror_mode": {
    "name": "ipython",
    "version": 3
   },
   "file_extension": ".py",
   "mimetype": "text/x-python",
   "name": "python",
   "nbconvert_exporter": "python",
   "pygments_lexer": "ipython3",
   "version": "3.10.8"
  },
  "varInspector": {
   "cols": {
    "lenName": 16,
    "lenType": 16,
    "lenVar": 40
   },
   "kernels_config": {
    "python": {
     "delete_cmd_postfix": "",
     "delete_cmd_prefix": "del ",
     "library": "var_list.py",
     "varRefreshCmd": "print(var_dic_list())"
    },
    "r": {
     "delete_cmd_postfix": ") ",
     "delete_cmd_prefix": "rm(",
     "library": "var_list.r",
     "varRefreshCmd": "cat(var_dic_list()) "
    }
   },
   "types_to_exclude": [
    "module",
    "function",
    "builtin_function_or_method",
    "instance",
    "_Feature"
   ],
   "window_display": false
  },
  "vscode": {
   "interpreter": {
    "hash": "7b1f2b33e866b0bf2409397e5f58ba9cdf170d3b7f64c8f359c79998e2f88ad4"
   }
  }
 },
 "nbformat": 4,
 "nbformat_minor": 2
}
