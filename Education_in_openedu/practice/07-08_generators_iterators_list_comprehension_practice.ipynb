{
 "cells": [
  {
   "cell_type": "code",
   "execution_count": 45,
   "metadata": {
    "ExecuteTime": {
     "end_time": "2024-11-05T14:58:42.295711Z",
     "start_time": "2024-11-05T14:58:42.264873Z"
    }
   },
   "outputs": [],
   "source": [
    "import itertools"
   ]
  },
  {
   "cell_type": "markdown",
   "metadata": {},
   "source": [
    "# 1. Натуральные числа\n",
    "Замените пропуск `____`, чтобы создать генератор `g`, лениво считающий отрицательные целые числа, начиная с единицы.\n",
    "Чтобы вспомнить, какой итератор из модуля itertools использовать, посмотрите этот момент в лекции/презентации.\n",
    "\n",
    "Т.к. генераторы и итераторы не позволяют итерироваться \"в обратном направлении\", если Вы несколько раз запустили блоки кода и что-то сбили, нажмите на кнопку \"Restart the kernel\", чтобы очистить память интерпретатора, и выполните все блоки кода заново"
   ]
  },
  {
   "cell_type": "code",
   "execution_count": 46,
   "metadata": {
    "ExecuteTime": {
     "end_time": "2024-11-05T14:58:43.517464Z",
     "start_time": "2024-11-05T14:58:43.513292Z"
    }
   },
   "outputs": [
    {
     "name": "stdout",
     "output_type": "stream",
     "text": [
      "-1\n",
      "-2\n",
      "-3\n",
      "-4\n",
      "-5\n",
      "-6\n",
      "-7\n",
      "-8\n",
      "-9\n",
      "-10\n",
      "-11\n",
      "-12\n",
      "-13\n",
      "-14\n",
      "-15\n",
      "-16\n",
      "-17\n",
      "-18\n",
      "-19\n",
      "-20\n"
     ]
    }
   ],
   "source": [
    "g = (-x for x in range(1,21))\n",
    "\n",
    "# выведите первые 20 из них\n",
    "\n",
    "# одно нижнее подчёркивание в цикле ниже не нужно ни на что заменять\n",
    "# вспомните, зачем оно нужно в Python (или погуглите)\n",
    "\n",
    "for i in range(1,21):\n",
    "    number = next(g)\n",
    "    print(number)"
   ]
  },
  {
   "cell_type": "code",
   "execution_count": 47,
   "metadata": {
    "ExecuteTime": {
     "end_time": "2024-11-05T14:58:43.993243Z",
     "start_time": "2024-11-05T14:58:43.982614Z"
    }
   },
   "outputs": [],
   "source": [
    "# проверьте, что последнее созданное генератором число - действительно равно -20\n",
    "assert number == -20"
   ]
  },
  {
   "cell_type": "markdown",
   "source": [],
   "metadata": {
    "collapsed": false
   }
  },
  {
   "cell_type": "code",
   "execution_count": 48,
   "metadata": {
    "ExecuteTime": {
     "end_time": "2024-11-05T14:58:44.932359Z",
     "start_time": "2024-11-05T14:58:44.928113Z"
    }
   },
   "outputs": [
    {
     "name": "stdout",
     "output_type": "stream",
     "text": [
      "-1\n",
      "-2\n",
      "-3\n",
      "-4\n",
      "-5\n",
      "-6\n",
      "-7\n",
      "-8\n",
      "-9\n",
      "-10\n",
      "-11\n",
      "-12\n",
      "-13\n",
      "-14\n",
      "-15\n",
      "-16\n",
      "-17\n",
      "-18\n",
      "-19\n",
      "-20\n"
     ]
    }
   ],
   "source": [
    "def gen():\n",
    "    for x in range(1,500):\n",
    "        yield -x\n",
    "        \n",
    "        \n",
    "g_2 = gen()\n",
    "\n",
    "for i in range(20):\n",
    "    number_2 = next(g_2)\n",
    "    print(number_2)"
   ]
  },
  {
   "cell_type": "code",
   "execution_count": 49,
   "metadata": {
    "ExecuteTime": {
     "end_time": "2024-11-05T14:58:45.548333Z",
     "start_time": "2024-11-05T14:58:45.540277Z"
    }
   },
   "outputs": [],
   "source": [
    "# проверьте, что последнее число - действительно равно -20\n",
    "assert number_2 == -20"
   ]
  },
  {
   "cell_type": "markdown",
   "metadata": {},
   "source": [
    "помните, что генераторы запоминают, где остановили работу?\n",
    "\n",
    "Проверим, что генератор `g` начнёт с **-21** и закончит на **-40**!"
   ]
  },
  {
   "cell_type": "code",
   "execution_count": 50,
   "metadata": {
    "ExecuteTime": {
     "end_time": "2024-11-05T14:58:46.662492Z",
     "start_time": "2024-11-05T14:58:46.660328Z"
    }
   },
   "outputs": [
    {
     "name": "stdout",
     "output_type": "stream",
     "text": [
      "-21\n",
      "-22\n",
      "-23\n",
      "-24\n",
      "-25\n",
      "-26\n",
      "-27\n",
      "-28\n",
      "-29\n",
      "-30\n",
      "-31\n",
      "-32\n",
      "-33\n",
      "-34\n",
      "-35\n",
      "-36\n",
      "-37\n",
      "-38\n",
      "-39\n",
      "-40\n"
     ]
    }
   ],
   "source": [
    "for i in range(20):\n",
    "    number = next(g_2)\n",
    "    print(number)"
   ]
  },
  {
   "cell_type": "code",
   "execution_count": 51,
   "metadata": {
    "ExecuteTime": {
     "end_time": "2024-11-05T14:58:47.319253Z",
     "start_time": "2024-11-05T14:58:47.310474Z"
    }
   },
   "outputs": [
    {
     "name": "stdout",
     "output_type": "stream",
     "text": [
      "-40\n"
     ]
    }
   ],
   "source": [
    "# не забудьте нажать на кнопку restart выше и заново запустить все блоки кода, \n",
    "# если вы случайно запустили блок выше больше одного раза!\n",
    "print(number)\n",
    "assert number == -40"
   ]
  },
  {
   "cell_type": "markdown",
   "metadata": {},
   "source": [
    "# 2. Числа Фиббоначи\n",
    "Замените пропуск `____`, чтобы реализовать генераторную функцию `fibonacci`, которая будет при каждом вызове метода `next` возвращать следующее число Фиббоначи ([что это такое?](https://ru.wikipedia.org/wiki/%D0%A7%D0%B8%D1%81%D0%BB%D0%B0_%D0%A4%D0%B8%D0%B1%D0%BE%D0%BD%D0%B0%D1%87%D1%87%D0%B8?oldformat=true)).\n",
    "\n",
    "Не забудьте, что маленькое нижнее подчёркивание `_` часто ставится в Python вместо переменной `i` в циклах, и его не нужно ничем заменять"
   ]
  },
  {
   "cell_type": "code",
   "execution_count": 52,
   "metadata": {
    "ExecuteTime": {
     "end_time": "2024-11-05T14:58:48.671193Z",
     "start_time": "2024-11-05T14:58:48.666129Z"
    }
   },
   "outputs": [],
   "source": [
    "# тут мы будем делать плохое - менять из функции глобальные переменные a и b\n",
    "fib_0, fib_2 = 0, 1\n",
    "\n",
    "a, b = fib_0, fib_2\n",
    "\n",
    "def fibonacci():\n",
    "    for x in itertools.count(1):        \n",
    "        global a\n",
    "        global b\n",
    "        \n",
    "        c = a+b\n",
    "        \n",
    "        a = b\n",
    "        b = c\n",
    "        \n",
    "        yield c"
   ]
  },
  {
   "cell_type": "code",
   "execution_count": 53,
   "metadata": {
    "ExecuteTime": {
     "end_time": "2024-11-05T14:58:49.555053Z",
     "start_time": "2024-11-05T14:58:49.541911Z"
    }
   },
   "outputs": [],
   "source": [
    "# создадим генератор и \"сцепим\" его с первыми двумя Числами Фибоначчи\n",
    "\n",
    "gen = fibonacci()\n",
    "gen_fib = itertools.chain((fib_0, fib_2), gen)"
   ]
  },
  {
   "cell_type": "code",
   "execution_count": 54,
   "metadata": {
    "ExecuteTime": {
     "end_time": "2024-11-05T14:58:50.687681Z",
     "start_time": "2024-11-05T14:58:50.679229Z"
    }
   },
   "outputs": [
    {
     "name": "stdout",
     "output_type": "stream",
     "text": [
      "0\n",
      "1\n",
      "1\n",
      "2\n",
      "3\n",
      "5\n",
      "8\n",
      "13\n",
      "21\n",
      "34\n",
      "55\n",
      "89\n",
      "144\n",
      "233\n",
      "377\n",
      "610\n",
      "987\n",
      "1597\n",
      "2584\n",
      "4181\n"
     ]
    }
   ],
   "source": [
    "# выведем первые 20 значений, создаваемых генератором\n",
    "for i in range(20):\n",
    "    print(next(gen_fib))"
   ]
  },
  {
   "cell_type": "code",
   "execution_count": 55,
   "metadata": {
    "ExecuteTime": {
     "end_time": "2024-11-05T14:59:00.220058Z",
     "start_time": "2024-11-05T14:59:00.210427Z"
    }
   },
   "outputs": [],
   "source": [
    "# этот блок сработает один раз, т.к. следующее число Фиббоначи равно 6765\n",
    "# если запустить его ещё раз, снова сработает next, и генератор выдаст уже следующее число\n",
    "\n",
    "assert next(gen_fib) == 6765"
   ]
  },
  {
   "cell_type": "code",
   "outputs": [],
   "source": [],
   "metadata": {
    "collapsed": false
   }
  }
 ],
 "metadata": {
  "kernelspec": {
   "display_name": "Python 3 (ipykernel)",
   "language": "python",
   "name": "python3"
  },
  "language_info": {
   "codemirror_mode": {
    "name": "ipython",
    "version": 3
   },
   "file_extension": ".py",
   "mimetype": "text/x-python",
   "name": "python",
   "nbconvert_exporter": "python",
   "pygments_lexer": "ipython3",
   "version": "3.10.2"
  }
 },
 "nbformat": 4,
 "nbformat_minor": 2
}
