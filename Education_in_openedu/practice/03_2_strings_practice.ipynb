{
 "cells": [
  {
   "cell_type": "markdown",
   "metadata": {},
   "source": [
    "# 1. Заполните пропущенные интервалы\n",
    "Заполните `____`, чтобы получились верные значения переменных `lower_cased`, `stripped` и `stripped_lower_case`.\n",
    "\n",
    "По блоку с функциями `assert` догадайтесь, что нужно сделать с каждой переменной\n",
    "\n",
    "Не стесняйтесь погуглить, как работает метод `strip()`, и с помощью какого метода можно сделать все буквы в строке буквами нижнего регистра (не заглавными)."
   ]
  },
  {
   "cell_type": "code",
   "execution_count": 2,
   "metadata": {
    "ExecuteTime": {
     "end_time": "2024-10-20T12:56:15.786438Z",
     "start_time": "2024-10-20T12:56:15.772592Z"
    }
   },
   "outputs": [],
   "source": [
    "original = ' Python strings are COOL! '\n",
    "lower_cased = original.lower()\n",
    "stripped = original.strip()\n",
    "\n",
    "# с помощью двух символов точка вы можете последовательно применить к исходной строке несколько методов.\n",
    "# например, сначала метод strip(), а затем - какой-то ещё ....\n",
    "stripped_lower_cased = original.strip().lower()"
   ]
  },
  {
   "cell_type": "markdown",
   "metadata": {},
   "source": [
    "Напомню, что функция `assert` вызовет [`AssertionError`](https://docs.python.org/3/library/exceptions.html#AssertionError) если выражение справа от неё не является `True` (т.е. является `False`)"
   ]
  },
  {
   "cell_type": "code",
   "execution_count": 3,
   "metadata": {
    "editable": false,
    "ExecuteTime": {
     "end_time": "2024-10-20T12:56:18.248716Z",
     "start_time": "2024-10-20T12:56:18.241395Z"
    }
   },
   "outputs": [],
   "source": [
    "assert lower_cased == ' python strings are cool! '\n",
    "assert stripped == 'Python strings are COOL!'\n",
    "assert stripped_lower_cased == 'python strings are cool!'"
   ]
  },
  {
   "cell_type": "markdown",
   "metadata": {},
   "source": [
    "# 2. Улучшите некрасивую строку\n",
    "Используйте на строке `ugly` метод `strip()`, чтобы убрать лишние символы в начале и в конце, а затем метод `title()`, чтобы каждое слово этой строки начиналось с заглавной буквы.\n",
    "\n",
    "Проверьте, что получившаяся строка совпадает со строкой из блока с функцией `assert` ниже"
   ]
  },
  {
   "cell_type": "code",
   "execution_count": 4,
   "metadata": {
    "editable": false,
    "ExecuteTime": {
     "end_time": "2024-10-20T12:56:20.311917Z",
     "start_time": "2024-10-20T12:56:20.308527Z"
    }
   },
   "outputs": [],
   "source": [
    "ugly = ' tiTle of MY new Book\\n\\n'"
   ]
  },
  {
   "cell_type": "code",
   "execution_count": 5,
   "metadata": {
    "ExecuteTime": {
     "end_time": "2024-10-20T12:56:21.178460Z",
     "start_time": "2024-10-20T12:56:21.171355Z"
    }
   },
   "outputs": [],
   "source": [
    "# Ваше решение:\n",
    "pretty = ugly.strip().title()"
   ]
  },
  {
   "cell_type": "markdown",
   "metadata": {},
   "source": [
    "Проверим, что результат правильный.\n",
    "\n",
    "Функция `assert` вызовет [`AssertionError`](https://docs.python.org/3/library/exceptions.html#AssertionError) если выражение справа от неё не True."
   ]
  },
  {
   "cell_type": "code",
   "execution_count": 6,
   "metadata": {
    "editable": false,
    "ExecuteTime": {
     "end_time": "2024-10-20T12:56:22.997521Z",
     "start_time": "2024-10-20T12:56:22.991639Z"
    }
   },
   "outputs": [
    {
     "name": "stdout",
     "output_type": "stream",
     "text": [
      "pretty: Title Of My New Book\n"
     ]
    }
   ],
   "source": [
    "print('pretty: {}'.format(pretty))\n",
    "assert pretty == 'Title Of My New Book'"
   ]
  },
  {
   "cell_type": "markdown",
   "metadata": {},
   "source": [
    "# 3. Составьте строку из других строк\n",
    "Создайте `sentence`, используя `verb`, `language` и `punctuation` и любые другие строки, которые вам могут понадобиться."
   ]
  },
  {
   "cell_type": "code",
   "execution_count": 7,
   "metadata": {
    "editable": false,
    "ExecuteTime": {
     "end_time": "2024-10-20T12:56:28.564390Z",
     "start_time": "2024-10-20T12:56:28.560284Z"
    }
   },
   "outputs": [],
   "source": [
    "verb = 'is'\n",
    "language = 'Python'\n",
    "punctuation = '!'"
   ]
  },
  {
   "cell_type": "code",
   "execution_count": 8,
   "metadata": {
    "ExecuteTime": {
     "end_time": "2024-10-20T12:56:29.298846Z",
     "start_time": "2024-10-20T12:56:29.295276Z"
    }
   },
   "outputs": [],
   "source": [
    "# Ваше решение:\n",
    "sentence = 'Learning' + ' ' + language + ' is' + ' fun' + punctuation"
   ]
  },
  {
   "cell_type": "code",
   "execution_count": 9,
   "metadata": {
    "editable": false,
    "ExecuteTime": {
     "end_time": "2024-10-20T12:56:29.837452Z",
     "start_time": "2024-10-20T12:56:29.834227Z"
    }
   },
   "outputs": [
    {
     "name": "stdout",
     "output_type": "stream",
     "text": [
      "sentence: Learning Python is fun!\n"
     ]
    }
   ],
   "source": [
    "print('sentence: {}'.format(sentence))\n",
    "assert sentence == 'Learning Python is fun!'"
   ]
  },
  {
   "cell_type": "code",
   "outputs": [],
   "source": [],
   "metadata": {
    "collapsed": false
   }
  }
 ],
 "metadata": {
  "kernelspec": {
   "display_name": "Python 3.10.8 64-bit (microsoft store)",
   "language": "python",
   "name": "python3"
  },
  "language_info": {
   "codemirror_mode": {
    "name": "ipython",
    "version": 3
   },
   "file_extension": ".py",
   "mimetype": "text/x-python",
   "name": "python",
   "nbconvert_exporter": "python",
   "pygments_lexer": "ipython3",
   "version": "3.10.8"
  },
  "vscode": {
   "interpreter": {
    "hash": "7b1f2b33e866b0bf2409397e5f58ba9cdf170d3b7f64c8f359c79998e2f88ad4"
   }
  }
 },
 "nbformat": 4,
 "nbformat_minor": 1
}
