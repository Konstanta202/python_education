{
 "cells": [
  {
   "cell_type": "markdown",
   "metadata": {},
   "source": [
    "# 1. Заполните пропуски в классе `Calculator`\n",
    "Заполните пропуски  `____` в реализации класса `Calculator` так, чтобы затем пройти проверки `assert` ниже."
   ]
  },
  {
   "cell_type": "code",
   "execution_count": 1,
   "metadata": {
    "ExecuteTime": {
     "end_time": "2024-11-03T23:34:19.043685Z",
     "start_time": "2024-11-03T23:34:19.039123Z"
    }
   },
   "outputs": [],
   "source": [
    "class Calculator:\n",
    "    \"\"\"Класс, который содержит 2 артибута-числа.\n",
    "    Умеет возводить одно в степень другого и складывать их с третьим числом\n",
    "    с помощью методов\"\"\"\n",
    "    def __init__(self, var1, var2):\n",
    "        \"\"\"Конструктор объектов. Будет вызван при создании нового объекта этого класса\"\"\"\n",
    "        self.var1 = var1\n",
    "        self.var2 = var2\n",
    "    \n",
    "    def calculate_power(self):\n",
    "        return self.var1 ** self.var2\n",
    "    \n",
    "    def calculate_sum(self, var3):\n",
    "        return self.var1 + self.var2 + var3"
   ]
  },
  {
   "cell_type": "code",
   "execution_count": 2,
   "metadata": {
    "ExecuteTime": {
     "end_time": "2024-11-03T23:34:19.948085Z",
     "start_time": "2024-11-03T23:34:19.937847Z"
    }
   },
   "outputs": [],
   "source": [
    "calc = Calculator(2, 3)\n",
    "assert calc.calculate_power() == 8\n",
    "assert calc.calculate_sum(4) == 9"
   ]
  },
  {
   "attachments": {},
   "cell_type": "markdown",
   "metadata": {},
   "source": [
    "# 2. Доделайте класс `StringManipulator`\n",
    "Заполните пропуски `____` и доделайте реализацию метода `make_title`, чтобы затем пройти проверки `assert` в блоках кода ниже.\n",
    "\n",
    "Для форматирования строки так, чтобы заглавные буквы были только в начале каждого слова, можно, например, самостоятельно написать цикл, или использовать готовый метод `capwords()` из библиотеки `string` ([google it](https://www.google.com/search?q=capwords+python)), которую потребуется предварительно загрузить в оперативную память с помощью ключевого слова `import`.\n",
    "\n",
    "Заметьте, в блоке с `assert` проверяется ещё и описание этого класса, а также то, что у класса есть атрибут (поле) `category` (это атрибут всего класса, а не конкретного объекта). Такие атрибуты редко используются, но иногда всему классу как таковому тоже нужно хранить информацию о себе. Просто имейте в виду, что так можно делать."
   ]
  },
  {
   "cell_type": "code",
   "execution_count": 5,
   "metadata": {
    "ExecuteTime": {
     "end_time": "2024-11-04T00:08:02.392064Z",
     "start_time": "2024-11-04T00:08:02.386495Z"
    }
   },
   "outputs": [],
   "source": [
    "import string\n",
    "class StringManipulator:\n",
    "    \"\"\"Docstring of StringManipulator\"\"\"\n",
    "    import string\n",
    "    category = 'Manipulator'\n",
    "    \n",
    "    def __init__(self, original):\n",
    "        self.phrase = original\n",
    "        \n",
    "    def reverse_words(self):\n",
    "        \"\"\"разворачивает атрибут phrase наоборот\"\"\"\n",
    "        # words - список слов, разделённых пробелами\n",
    "        words = self.phrase.split()\n",
    "        # reversed меняет порядок элементов в списке наоборот\n",
    "        self.phrase = ' '.join(reversed(words))\n",
    "\n",
    "        \n",
    "        \n",
    "        \n",
    "    def make_title(self):\n",
    "\n",
    "        words = self.phrase.split()\n",
    "        self.phrase = string.capwords(' '.join(reversed(words)), ' ')\n",
    "        # наполните этот метод\n",
    "        # ниже видно, что он переводит, например, строку \"cOOL pyThON\" в \"Python Cool\"\n",
    "        # чтобы поменять местами порядок слов, тут можно воспользоваться методом выше\n",
    "        \n",
    "    def get_manipulated(self):\n",
    "        \"\"\"возвращает атрибут phrase после всего, что мы с ним сделали с помощью других методов\"\"\"\n",
    "        return self.phrase"
   ]
  },
  {
   "cell_type": "code",
   "execution_count": 6,
   "metadata": {
    "ExecuteTime": {
     "end_time": "2024-11-04T00:08:03.911728Z",
     "start_time": "2024-11-04T00:08:03.902902Z"
    }
   },
   "outputs": [],
   "source": [
    "assert StringManipulator.__doc__ == 'Docstring of StringManipulator'\n",
    "assert StringManipulator.category == 'Manipulator'\n",
    "\n",
    "str_manip = StringManipulator('cOOL pyThON')\n",
    "str_manip.reverse_words()\n",
    "assert str_manip.get_manipulated() == 'pyThON cOOL'\n",
    "\n",
    "str_manip = StringManipulator('cOOL pyThON')\n",
    "str_manip.make_title()\n",
    "assert str_manip.get_manipulated() == 'Python Cool'"
   ]
  },
  {
   "cell_type": "markdown",
   "metadata": {},
   "source": [
    "# 3. Создайте класс `Dog`\n",
    "Создайте класс `Dog` такой, что:\n",
    "* пёсики тратят энергию на лай и восстанавливают её с помощью сна\n",
    "* при создании нового пёсика (объекта класса `Dog`) у него будет 10 очков энергии\n",
    "* `Dog` имеет метод `sleep` который повышает энергию на 2 очка\n",
    "* `Dog` имеет метод `bark` который тратит 1 очко энергии\n",
    "* `Dog` имеет метод `get_energy` который возвращает текущее значение энергии пёсика"
   ]
  },
  {
   "cell_type": "code",
   "execution_count": 8,
   "metadata": {
    "ExecuteTime": {
     "end_time": "2024-11-04T00:11:38.403993Z",
     "start_time": "2024-11-04T00:11:38.403101Z"
    }
   },
   "outputs": [],
   "source": [
    "class Dog:\n",
    "    \n",
    "    # Ваша реализаций поля (атрибута) с энергией и конструктора __init__, который присвоит 10 очков этой энергии\n",
    "    # и Ваша реализация трёх методов выше, которые будут эту энергитю пенять у конкретного пёсика\n",
    "    def __init__(self, energy = 10):\n",
    "        self.energy = energy\n",
    "    def sleep(self):\n",
    "        self.energy += 2\n",
    "    def bark(self):\n",
    "        self.energy -= 1\n",
    "    def get_energy(self):\n",
    "        return self.energy"
   ]
  },
  {
   "cell_type": "code",
   "execution_count": 9,
   "metadata": {
    "editable": false,
    "ExecuteTime": {
     "end_time": "2024-11-04T00:11:39.361946Z",
     "start_time": "2024-11-04T00:11:39.355052Z"
    }
   },
   "outputs": [],
   "source": [
    "doge = Dog()\n",
    "assert doge.get_energy() == 10\n",
    "\n",
    "doge.bark()\n",
    "doge.bark()\n",
    "doge.bark()\n",
    "assert doge.get_energy() == 7\n",
    "\n",
    "doge.sleep()\n",
    "assert doge.get_energy() == 9\n",
    "\n",
    "another_doge = Dog()\n",
    "assert another_doge.get_energy() == 10"
   ]
  },
  {
   "cell_type": "code",
   "outputs": [],
   "source": [],
   "metadata": {
    "collapsed": false
   }
  }
 ],
 "metadata": {
  "celltoolbar": "Edit Metadata",
  "kernelspec": {
   "display_name": "Python 3 (ipykernel)",
   "language": "python",
   "name": "python3"
  },
  "language_info": {
   "codemirror_mode": {
    "name": "ipython",
    "version": 3
   },
   "file_extension": ".py",
   "mimetype": "text/x-python",
   "name": "python",
   "nbconvert_exporter": "python",
   "pygments_lexer": "ipython3",
   "version": "3.10.2"
  }
 },
 "nbformat": 4,
 "nbformat_minor": 2
}
