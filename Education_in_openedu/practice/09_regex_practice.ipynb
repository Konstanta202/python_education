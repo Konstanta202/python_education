{
 "cells": [
  {
   "cell_type": "code",
   "execution_count": 31,
   "metadata": {
    "ExecuteTime": {
     "end_time": "2024-11-05T21:59:43.130058Z",
     "start_time": "2024-11-05T21:59:43.124802Z"
    }
   },
   "outputs": [],
   "source": [
    "import re"
   ]
  },
  {
   "cell_type": "markdown",
   "metadata": {},
   "source": [
    "# 1. Поиск подстроки\n",
    "Замените пропуск `____` на метод из библиотеки `re`, чтобы ниже получился match-объект `result`, по которому можно найти подстроку \"**cat**\" и индекс её начала и конца в исходной строке."
   ]
  },
  {
   "cell_type": "code",
   "execution_count": 32,
   "metadata": {
    "ExecuteTime": {
     "end_time": "2024-11-05T21:59:44.127754Z",
     "start_time": "2024-11-05T21:59:44.124690Z"
    }
   },
   "outputs": [],
   "source": [
    "pattern_1 = re.compile(r\"cat\")"
   ]
  },
  {
   "cell_type": "code",
   "execution_count": 33,
   "metadata": {
    "ExecuteTime": {
     "end_time": "2024-11-05T21:59:44.595643Z",
     "start_time": "2024-11-05T21:59:44.590157Z"
    }
   },
   "outputs": [],
   "source": [
    "result_1 = pattern_1.search(\"CatcatCATCaT\")"
   ]
  },
  {
   "cell_type": "code",
   "execution_count": 34,
   "metadata": {
    "ExecuteTime": {
     "end_time": "2024-11-05T21:59:44.986803Z",
     "start_time": "2024-11-05T21:59:44.980822Z"
    }
   },
   "outputs": [],
   "source": [
    "assert result_1.start() == 3\n",
    "assert result_1.end() == 6\n",
    "assert result_1.group(0) == 'cat'"
   ]
  },
  {
   "cell_type": "markdown",
   "metadata": {},
   "source": [
    "# 2. Поиск подстроки определённого размера\n",
    "Замените пропуск `____` регулярным выражением, чтобы Найти все подстроки, в которых после символа \"**a**\" идёт 2 или 3 символа \"**b**\"\n",
    "\n",
    "\n",
    "В статье [на хабре](https://habr.com/ru/post/349860/) это объясняется - поищите в статье фигурные скобки и количество раз, которое в тексте повторяется шаблон"
   ]
  },
  {
   "cell_type": "code",
   "execution_count": 35,
   "metadata": {
    "ExecuteTime": {
     "end_time": "2024-11-05T21:59:46.221547Z",
     "start_time": "2024-11-05T21:59:46.214474Z"
    }
   },
   "outputs": [],
   "source": [
    "pattern_2 = re.compile(r\"a\\Sb{1,2}\")"
   ]
  },
  {
   "cell_type": "code",
   "execution_count": 36,
   "metadata": {
    "ExecuteTime": {
     "end_time": "2024-11-05T21:59:46.761477Z",
     "start_time": "2024-11-05T21:59:46.756527Z"
    }
   },
   "outputs": [
    {
     "name": "stdout",
     "output_type": "stream",
     "text": [
      "['abb', 'abbb', 'abbb']\n"
     ]
    }
   ],
   "source": [
    "result_2 = pattern_2.findall(\"Ab\")\n",
    "result_3 = pattern_2.findall(\"Cgiabb_abbb_ab_abbbbb\")\n",
    "print(result_3)"
   ]
  },
  {
   "cell_type": "code",
   "execution_count": 37,
   "metadata": {
    "ExecuteTime": {
     "end_time": "2024-11-05T21:59:47.283748Z",
     "start_time": "2024-11-05T21:59:47.280824Z"
    }
   },
   "outputs": [],
   "source": [
    "# в первом случае findall должен выдать пустой список - ничего не нашлось\n",
    "assert result_2 == []"
   ]
  },
  {
   "cell_type": "code",
   "execution_count": 38,
   "metadata": {
    "ExecuteTime": {
     "end_time": "2024-11-05T21:59:48.141529Z",
     "start_time": "2024-11-05T21:59:48.135036Z"
    }
   },
   "outputs": [],
   "source": [
    "# во втором случае - список найденных последовательностей\n",
    "assert result_3 == [\"abb\", \"abbb\", \"abbb\"]"
   ]
  },
  {
   "cell_type": "markdown",
   "metadata": {},
   "source": [
    "# 3. Поиск подстрок с разделителями\n",
    "Замените пропуск `____` регулярным выражением, чтобы найти все максимально длинные подстроки, в которых две (под)подстроки из букв **нижнего регистра** отделены символом “_”.\n",
    "\n",
    "См. `assert` ниже, чтобы лучше понять, что имеется в виду"
   ]
  },
  {
   "cell_type": "code",
   "execution_count": 40,
   "metadata": {
    "ExecuteTime": {
     "end_time": "2024-11-05T21:59:59.569721Z",
     "start_time": "2024-11-05T21:59:59.562475Z"
    }
   },
   "outputs": [],
   "source": [
    "\n",
    "\n",
    "pattern_3 = re.compile(r'([a-z]+)_([a-z]+)')"
   ]
  },
  {
   "cell_type": "code",
   "execution_count": 41,
   "metadata": {
    "ExecuteTime": {
     "end_time": "2024-11-05T21:59:59.812025Z",
     "start_time": "2024-11-05T21:59:59.805213Z"
    }
   },
   "outputs": [],
   "source": [
    "# заметье, одна строка отличается от другой отсутствием одного из разделителей \"_\"\n",
    "# соответственно, и найтись в них должно разное\n",
    "# комбинируйте в резулярном выражении \"[a-z]\", нижнее подчёркивание и спецсимвол \"+\"\n",
    "\n",
    "result_4 = pattern_3.search(\"John_Smith name_surname_Name_Surname\")\n",
    "result_5 = pattern_3.search(\"John_Smith_name_surname_Name_Surname\")"
   ]
  },
  {
   "cell_type": "code",
   "execution_count": 42,
   "metadata": {
    "ExecuteTime": {
     "end_time": "2024-11-05T22:00:00.722268Z",
     "start_time": "2024-11-05T22:00:00.700397Z"
    }
   },
   "outputs": [],
   "source": [
    "assert result_4.group(0) == \"name_surname\"\n",
    "assert result_5.group(0) == \"mith_name\""
   ]
  },
  {
   "cell_type": "code",
   "outputs": [],
   "source": [],
   "metadata": {
    "collapsed": false
   }
  }
 ],
 "metadata": {
  "kernelspec": {
   "display_name": "Python 3 (ipykernel)",
   "language": "python",
   "name": "python3"
  },
  "language_info": {
   "codemirror_mode": {
    "name": "ipython",
    "version": 3
   },
   "file_extension": ".py",
   "mimetype": "text/x-python",
   "name": "python",
   "nbconvert_exporter": "python",
   "pygments_lexer": "ipython3",
   "version": "3.10.2"
  }
 },
 "nbformat": 4,
 "nbformat_minor": 2
}
