{
 "cells": [
  {
   "cell_type": "markdown",
   "metadata": {},
   "source": [
    "# 1. Заполнение пропусков\n",
    "Заполните пропуски `____` в коде ниже."
   ]
  },
  {
   "cell_type": "code",
   "execution_count": 13,
   "metadata": {
    "ExecuteTime": {
     "end_time": "2024-10-20T13:45:34.848508Z",
     "start_time": "2024-10-20T13:45:34.838590Z"
    }
   },
   "outputs": [
    {
     "data": {
      "text/plain": "['Python', 'is ok', 'sometimes']"
     },
     "execution_count": 13,
     "metadata": {},
     "output_type": "execute_result"
    }
   ],
   "source": [
    "# Создайте пустой список\n",
    "my_list = []\n",
    "\n",
    "# И добавьте в него значения с помощью метода, который позволяет добавлять элементы в список\n",
    "my_list.append('Python')\n",
    "my_list.append('is ok')\n",
    "my_list.append('sometimes')\n",
    "my_list"
   ]
  },
  {
   "cell_type": "code",
   "execution_count": 14,
   "metadata": {
    "ExecuteTime": {
     "end_time": "2024-10-20T13:45:36.123431Z",
     "start_time": "2024-10-20T13:45:36.114836Z"
    }
   },
   "outputs": [
    {
     "data": {
      "text/plain": "['Python', 'is ok']"
     },
     "execution_count": 14,
     "metadata": {},
     "output_type": "execute_result"
    }
   ],
   "source": [
    "# Удалите из него 'sometimes' с помощью метода, позволяющего удалять элементы из списка\n",
    "my_list.remove('sometimes')\n",
    "my_list"
   ]
  },
  {
   "cell_type": "code",
   "execution_count": 15,
   "metadata": {
    "ExecuteTime": {
     "end_time": "2024-10-20T13:45:40.938219Z",
     "start_time": "2024-10-20T13:45:40.934088Z"
    }
   },
   "outputs": [
    {
     "data": {
      "text/plain": "['Python', 'is neat']"
     },
     "execution_count": 15,
     "metadata": {},
     "output_type": "execute_result"
    }
   ],
   "source": [
    "# Измените второй элемент списка. В квадратные скобки ставится индекс\n",
    "# не забывайте, что в Python индексирование элементов ведётся с нуля\n",
    "# т.е. \"по-человечески второй\" элемент - это \"по-программистски первый\" элемент\n",
    "my_list[1] = 'is neat'\n",
    "my_list"
   ]
  },
  {
   "cell_type": "code",
   "execution_count": 16,
   "metadata": {
    "ExecuteTime": {
     "end_time": "2024-10-20T13:45:42.104986Z",
     "start_time": "2024-10-20T13:45:42.082709Z"
    }
   },
   "outputs": [],
   "source": [
    "# проверим результат\n",
    "assert my_list == ['Python', 'is neat']"
   ]
  },
  {
   "cell_type": "markdown",
   "metadata": {},
   "source": [
    "# 2. Создание нового списка\n",
    "\n",
    "Создайте новый список на основе старого, не изменяя при этом старый.\n",
    "\n",
    "Погуглите или вспомните, как копировать объекты"
   ]
  },
  {
   "cell_type": "code",
   "outputs": [],
   "source": [],
   "metadata": {
    "collapsed": false,
    "ExecuteTime": {
     "end_time": "2024-10-20T13:51:05.874659Z",
     "start_time": "2024-10-20T13:51:05.868691Z"
    }
   },
   "execution_count": 26
  },
  {
   "cell_type": "code",
   "execution_count": 27,
   "metadata": {
    "editable": false,
    "ExecuteTime": {
     "end_time": "2024-10-20T13:51:06.457072Z",
     "start_time": "2024-10-20T13:51:06.454364Z"
    }
   },
   "outputs": [],
   "source": [
    "original = ['I', 'am', 'learning', 'hacking', 'in']"
   ]
  },
  {
   "cell_type": "code",
   "execution_count": 28,
   "metadata": {
    "ExecuteTime": {
     "end_time": "2024-10-20T13:51:07.060273Z",
     "start_time": "2024-10-20T13:51:07.056236Z"
    }
   },
   "outputs": [
    {
     "name": "stdout",
     "output_type": "stream",
     "text": [
      "['I', 'am', 'learning', 'hacking', 'in']\n",
      "['I', 'am', 'learning', 'lists', 'in', 'Python']\n"
     ]
    }
   ],
   "source": [
    "# Ваше решение\n",
    "modified = list(original)\n",
    "modified.append('Python')\n",
    "modified[3] = 'lists'\n",
    "print(original)\n",
    "print(modified)"
   ]
  },
  {
   "cell_type": "code",
   "execution_count": 29,
   "metadata": {
    "ExecuteTime": {
     "end_time": "2024-10-20T13:51:08.604896Z",
     "start_time": "2024-10-20T13:51:08.586109Z"
    }
   },
   "outputs": [],
   "source": [
    "# проверим результат\n",
    "assert original == ['I', 'am', 'learning', 'hacking', 'in']\n",
    "assert modified == ['I', 'am', 'learning', 'lists', 'in', 'Python']"
   ]
  },
  {
   "cell_type": "markdown",
   "metadata": {},
   "source": [
    "# 3. Слияние списков и сортировка\n",
    "\n",
    "Создайте список из трех других списков (с помощью `+` или подходящего для слияния метода) и отсортируйте элементы в нём по убыванию (тоже с помощью подходящего для этого метода)"
   ]
  },
  {
   "cell_type": "code",
   "execution_count": 30,
   "metadata": {
    "editable": false,
    "ExecuteTime": {
     "end_time": "2024-10-20T13:51:10.970215Z",
     "start_time": "2024-10-20T13:51:10.967348Z"
    }
   },
   "outputs": [],
   "source": [
    "list1 = [6, 12, 5]\n",
    "list2 = [6.2, 0, 14, 1]\n",
    "list3 = [0.9]"
   ]
  },
  {
   "cell_type": "code",
   "execution_count": 31,
   "metadata": {
    "ExecuteTime": {
     "end_time": "2024-10-20T13:51:11.511405Z",
     "start_time": "2024-10-20T13:51:11.506909Z"
    }
   },
   "outputs": [],
   "source": [
    "# Ваше решение\n",
    "my_list = sorted((list1 + list2 + list3), reverse = True)"
   ]
  },
  {
   "cell_type": "code",
   "execution_count": 32,
   "metadata": {
    "scrolled": true,
    "ExecuteTime": {
     "end_time": "2024-10-20T13:51:12.089881Z",
     "start_time": "2024-10-20T13:51:12.085441Z"
    }
   },
   "outputs": [
    {
     "name": "stdout",
     "output_type": "stream",
     "text": [
      "[14, 12, 6.2, 6, 5, 1, 0.9, 0]\n"
     ]
    }
   ],
   "source": [
    "# проверим результат\n",
    "print(my_list)\n",
    "assert my_list == [14, 12, 6.2, 6, 5, 1, 0.9, 0]"
   ]
  },
  {
   "cell_type": "code",
   "outputs": [],
   "source": [],
   "metadata": {
    "collapsed": false
   }
  }
 ],
 "metadata": {
  "celltoolbar": "Edit Metadata",
  "kernelspec": {
   "display_name": "Python 3.10.8 64-bit (microsoft store)",
   "language": "python",
   "name": "python3"
  },
  "language_info": {
   "codemirror_mode": {
    "name": "ipython",
    "version": 3
   },
   "file_extension": ".py",
   "mimetype": "text/x-python",
   "name": "python",
   "nbconvert_exporter": "python",
   "pygments_lexer": "ipython3",
   "version": "3.10.8"
  },
  "vscode": {
   "interpreter": {
    "hash": "7b1f2b33e866b0bf2409397e5f58ba9cdf170d3b7f64c8f359c79998e2f88ad4"
   }
  }
 },
 "nbformat": 4,
 "nbformat_minor": 2
}
