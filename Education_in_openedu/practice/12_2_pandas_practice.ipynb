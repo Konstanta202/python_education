{
 "cells": [
  {
   "cell_type": "code",
   "execution_count": 1,
   "metadata": {
    "ExecuteTime": {
     "end_time": "2024-10-29T21:41:46.800748Z",
     "start_time": "2024-10-29T21:41:46.594406Z"
    }
   },
   "outputs": [
    {
     "ename": "ModuleNotFoundError",
     "evalue": "No module named 'pandas'",
     "output_type": "error",
     "traceback": [
      "\u001B[0;31m---------------------------------------------------------------------------\u001B[0m",
      "\u001B[0;31mModuleNotFoundError\u001B[0m                       Traceback (most recent call last)",
      "Cell \u001B[0;32mIn[1], line 1\u001B[0m\n\u001B[0;32m----> 1\u001B[0m \u001B[38;5;28;01mimport\u001B[39;00m \u001B[38;5;21;01mpandas\u001B[39;00m \u001B[38;5;28;01mas\u001B[39;00m \u001B[38;5;21;01mpd\u001B[39;00m\n\u001B[1;32m      2\u001B[0m \u001B[38;5;28;01mimport\u001B[39;00m \u001B[38;5;21;01mnumpy\u001B[39;00m \u001B[38;5;28;01mas\u001B[39;00m \u001B[38;5;21;01mnp\u001B[39;00m\n",
      "\u001B[0;31mModuleNotFoundError\u001B[0m: No module named 'pandas'"
     ]
    }
   ],
   "source": [
    "import pandas as pd\n",
    "import numpy as np"
   ]
  },
  {
   "cell_type": "markdown",
   "metadata": {},
   "source": [
    "# 1 Создание столбцов\n",
    "Заполните пропуски ____ так, чтобы создать из списков два столбца `Series`, а затем вывести столбец, заполненный True/False в зависимости от того, совпадают ли элементы этих двух столбцов.\n",
    "\n",
    "Т.е. чтобы для столбцов ниже получилось:\n",
    "\n",
    "|    |   0 |\n",
    "|---:|----:|\n",
    "|  0 |   False |\n",
    "|  1 |   False |\n",
    "|  2 |   False |\n",
    "|  3 |   False |\n",
    "|  4 |   True |\n",
    "\n",
    "Несложно догадаться, какой метод нужен в последнем блоке. Однако, возможно, придётся погуглить"
   ]
  },
  {
   "cell_type": "code",
   "execution_count": null,
   "metadata": {
    "ExecuteTime": {
     "start_time": "2024-10-29T21:41:46.786065Z"
    }
   },
   "outputs": [],
   "source": [
    "ds1 = pd.____([2, 4, 6, 8, 10])\n",
    "ds2 = pd.____([1, 3, 5, 7, 10])"
   ]
  },
  {
   "cell_type": "code",
   "execution_count": 2,
   "metadata": {
    "ExecuteTime": {
     "end_time": "2024-10-29T21:41:51.666Z",
     "start_time": "2024-10-29T21:41:51.454353Z"
    }
   },
   "outputs": [
    {
     "ename": "SyntaxError",
     "evalue": "invalid syntax (4126258146.py, line 1)",
     "output_type": "error",
     "traceback": [
      "\u001B[0;36m  Cell \u001B[0;32mIn[2], line 1\u001B[0;36m\u001B[0m\n\u001B[0;31m    print(ds1 ____ ds2)\u001B[0m\n\u001B[0m              ^\u001B[0m\n\u001B[0;31mSyntaxError\u001B[0m\u001B[0;31m:\u001B[0m invalid syntax\n"
     ]
    }
   ],
   "source": [
    "print(ds1 ____ ds2)"
   ]
  },
  {
   "cell_type": "markdown",
   "metadata": {},
   "source": [
    "## 2 Именованые индексы\n",
    "Заполните пропуски ____ так, чтобы создать таблицу с именоваными строками, и в результате получилась следующая таблица:\n",
    "\n",
    "|    | name      |   score |   attempts | qualify   |\n",
    "|:---|:----------|--------:|-----------:|:----------|\n",
    "| a  | Anastasia |    12.5 |          1 | yes       |\n",
    "| b  | Dima      |     9   |          3 | no        |\n",
    "| c  | Katherine |    16.5 |          2 | yes       |\n",
    "| d  | James     |   nan   |          3 | no        |\n",
    "| e  | Emily     |     9   |          2 | no        |\n",
    "| f  | Michael   |    20   |          3 | yes       |\n",
    "| g  | Matthew   |    14.5 |          1 | yes       |\n",
    "| h  | Laura     |   nan   |          1 | no        |\n",
    "| i  | Kevin     |     8   |          2 | no        |\n",
    "| j  | Jonas     |    19   |          1 | yes       |"
   ]
  },
  {
   "cell_type": "code",
   "execution_count": 3,
   "metadata": {
    "ExecuteTime": {
     "end_time": "2024-10-29T21:41:52.803017Z",
     "start_time": "2024-10-29T21:41:52.611627Z"
    }
   },
   "outputs": [
    {
     "ename": "NameError",
     "evalue": "name '____' is not defined",
     "output_type": "error",
     "traceback": [
      "\u001B[0;31m---------------------------------------------------------------------------\u001B[0m",
      "\u001B[0;31mNameError\u001B[0m                                 Traceback (most recent call last)",
      "Cell \u001B[0;32mIn[3], line 4\u001B[0m\n\u001B[1;32m      1\u001B[0m \u001B[38;5;66;03m# NaN - т.е. пустое значение - добавляются с помощью NumPy\u001B[39;00m\n\u001B[1;32m      2\u001B[0m \n\u001B[1;32m      3\u001B[0m \u001B[38;5;66;03m# столбцы будущей таблицы\u001B[39;00m\n\u001B[0;32m----> 4\u001B[0m exam_data  \u001B[38;5;241m=\u001B[39m {\u001B[43m____\u001B[49m: [\u001B[38;5;124m'\u001B[39m\u001B[38;5;124mAnastasia\u001B[39m\u001B[38;5;124m'\u001B[39m, \u001B[38;5;124m'\u001B[39m\u001B[38;5;124mDima\u001B[39m\u001B[38;5;124m'\u001B[39m, \u001B[38;5;124m'\u001B[39m\u001B[38;5;124mKatherine\u001B[39m\u001B[38;5;124m'\u001B[39m, \u001B[38;5;124m'\u001B[39m\u001B[38;5;124mJames\u001B[39m\u001B[38;5;124m'\u001B[39m, \u001B[38;5;124m'\u001B[39m\u001B[38;5;124mEmily\u001B[39m\u001B[38;5;124m'\u001B[39m, \u001B[38;5;124m'\u001B[39m\u001B[38;5;124mMichael\u001B[39m\u001B[38;5;124m'\u001B[39m, \u001B[38;5;124m'\u001B[39m\u001B[38;5;124mMatthew\u001B[39m\u001B[38;5;124m'\u001B[39m, \u001B[38;5;124m'\u001B[39m\u001B[38;5;124mLaura\u001B[39m\u001B[38;5;124m'\u001B[39m, \u001B[38;5;124m'\u001B[39m\u001B[38;5;124mKevin\u001B[39m\u001B[38;5;124m'\u001B[39m, \u001B[38;5;124m'\u001B[39m\u001B[38;5;124mJonas\u001B[39m\u001B[38;5;124m'\u001B[39m],\n\u001B[1;32m      5\u001B[0m         ____: [____, ____, ____, np\u001B[38;5;241m.\u001B[39mnan, ____, ____, ____, np\u001B[38;5;241m.\u001B[39mnan, ____, ____],\n\u001B[1;32m      6\u001B[0m         ____: [\u001B[38;5;241m1\u001B[39m, \u001B[38;5;241m3\u001B[39m, \u001B[38;5;241m2\u001B[39m, \u001B[38;5;241m3\u001B[39m, \u001B[38;5;241m2\u001B[39m, \u001B[38;5;241m3\u001B[39m, \u001B[38;5;241m1\u001B[39m, \u001B[38;5;241m1\u001B[39m, \u001B[38;5;241m2\u001B[39m, \u001B[38;5;241m1\u001B[39m],\n\u001B[1;32m      7\u001B[0m         ____: [\u001B[38;5;124m'\u001B[39m\u001B[38;5;124myes\u001B[39m\u001B[38;5;124m'\u001B[39m, \u001B[38;5;124m'\u001B[39m\u001B[38;5;124mno\u001B[39m\u001B[38;5;124m'\u001B[39m, \u001B[38;5;124m'\u001B[39m\u001B[38;5;124myes\u001B[39m\u001B[38;5;124m'\u001B[39m, \u001B[38;5;124m'\u001B[39m\u001B[38;5;124mno\u001B[39m\u001B[38;5;124m'\u001B[39m, \u001B[38;5;124m'\u001B[39m\u001B[38;5;124mno\u001B[39m\u001B[38;5;124m'\u001B[39m, \u001B[38;5;124m'\u001B[39m\u001B[38;5;124myes\u001B[39m\u001B[38;5;124m'\u001B[39m, \u001B[38;5;124m'\u001B[39m\u001B[38;5;124myes\u001B[39m\u001B[38;5;124m'\u001B[39m, \u001B[38;5;124m'\u001B[39m\u001B[38;5;124mno\u001B[39m\u001B[38;5;124m'\u001B[39m, \u001B[38;5;124m'\u001B[39m\u001B[38;5;124mno\u001B[39m\u001B[38;5;124m'\u001B[39m, \u001B[38;5;124m'\u001B[39m\u001B[38;5;124myes\u001B[39m\u001B[38;5;124m'\u001B[39m]}\n\u001B[1;32m      9\u001B[0m \u001B[38;5;66;03m# индексы строк будущей таблицы\u001B[39;00m\n\u001B[1;32m     10\u001B[0m labels \u001B[38;5;241m=\u001B[39m [\u001B[38;5;124m'\u001B[39m\u001B[38;5;124ma\u001B[39m\u001B[38;5;124m'\u001B[39m, \u001B[38;5;124m'\u001B[39m\u001B[38;5;124mb\u001B[39m\u001B[38;5;124m'\u001B[39m, \u001B[38;5;124m'\u001B[39m\u001B[38;5;124mc\u001B[39m\u001B[38;5;124m'\u001B[39m, \u001B[38;5;124m'\u001B[39m\u001B[38;5;124md\u001B[39m\u001B[38;5;124m'\u001B[39m, \u001B[38;5;124m'\u001B[39m\u001B[38;5;124me\u001B[39m\u001B[38;5;124m'\u001B[39m, \u001B[38;5;124m'\u001B[39m\u001B[38;5;124mf\u001B[39m\u001B[38;5;124m'\u001B[39m, \u001B[38;5;124m'\u001B[39m\u001B[38;5;124mg\u001B[39m\u001B[38;5;124m'\u001B[39m, \u001B[38;5;124m'\u001B[39m\u001B[38;5;124mh\u001B[39m\u001B[38;5;124m'\u001B[39m, \u001B[38;5;124m'\u001B[39m\u001B[38;5;124mi\u001B[39m\u001B[38;5;124m'\u001B[39m, \u001B[38;5;124m'\u001B[39m\u001B[38;5;124mj\u001B[39m\u001B[38;5;124m'\u001B[39m]\n",
      "\u001B[0;31mNameError\u001B[0m: name '____' is not defined"
     ]
    }
   ],
   "source": [
    "# NaN - т.е. пустое значение - добавляются с помощью NumPy\n",
    "\n",
    "# столбцы будущей таблицы\n",
    "exam_data  = {____: ['Anastasia', 'Dima', 'Katherine', 'James', 'Emily', 'Michael', 'Matthew', 'Laura', 'Kevin', 'Jonas'],\n",
    "        ____: [____, ____, ____, np.nan, ____, ____, ____, np.nan, ____, ____],\n",
    "        ____: [1, 3, 2, 3, 2, 3, 1, 1, 2, 1],\n",
    "        ____: ['yes', 'no', 'yes', 'no', 'no', 'yes', 'yes', 'no', 'no', 'yes']}\n",
    "\n",
    "# индексы строк будущей таблицы\n",
    "labels = ['a', 'b', 'c', 'd', 'e', 'f', 'g', 'h', 'i', 'j']\n",
    "\n",
    "df = pd.DataFrame(exam_data , index=labels)\n",
    "df"
   ]
  },
  {
   "cell_type": "markdown",
   "metadata": {},
   "source": [
    "## 3 Вывод строк, срезы\n",
    "\n",
    "Создайте таблицу, состоящую из первых трёх строк исходной"
   ]
  },
  {
   "cell_type": "code",
   "execution_count": null,
   "metadata": {},
   "outputs": [],
   "source": [
    "# вспомните, как получать доступ к строкам по имени (метод loc),\n",
    "# а как - по индексу\n",
    "\n",
    "df_three_rows = df.____[____]\n",
    "df_three_rows"
   ]
  },
  {
   "cell_type": "code",
   "execution_count": null,
   "metadata": {},
   "outputs": [],
   "source": [
    "assert str(df_three_rows) == \"        name  score  attempts qualify\\na  Anastasia   12.5         1     yes\\nb       Dima    9.0         3      no\\nc  Katherine   16.5         2     yes\""
   ]
  },
  {
   "cell_type": "markdown",
   "metadata": {},
   "source": [
    "## 4 Добавление новых столбцов\n",
    "\n",
    "Добавьте к исходной таблице новый столбец \"Color\""
   ]
  },
  {
   "cell_type": "code",
   "execution_count": null,
   "metadata": {},
   "outputs": [],
   "source": [
    "# вспомните про то, что синтаксис рабоыт со столбцами похож на синтаксис словарей\n",
    "color = ['Red','Blue','Orange','Red','White','White','Blue','Green','Green','Red']\n",
    "df[____] = color\n",
    "df"
   ]
  },
  {
   "cell_type": "code",
   "execution_count": null,
   "metadata": {},
   "outputs": [],
   "source": [
    "assert str(df) == \"        name  score  attempts qualify   color\\na  Anastasia   12.5         1     yes     Red\\nb       Dima    9.0         3      no    Blue\\nc  Katherine   16.5         2     yes  Orange\\nd      James    NaN         3      no     Red\\ne      Emily    9.0         2      no   White\\nf    Michael   20.0         3     yes   White\\ng    Matthew   14.5         1     yes    Blue\\nh      Laura    NaN         1      no   Green\\ni      Kevin    8.0         2      no   Green\\nj      Jonas   19.0         1     yes     Red\""
   ]
  },
  {
   "cell_type": "markdown",
   "metadata": {},
   "source": [
    "## 5 Порядок столбцов\n",
    "\n",
    "Отобразите таблицу, поменяв в ней порядок столбцов так, чтобы получилась следующая таблица:\n",
    "\n",
    "|    | color   |   score |   attempts | name      | qualify   |\n",
    "|:---|:--------|--------:|-----------:|:----------|:----------|\n",
    "| a  | Red     |    12.5 |          1 | Anastasia | yes       |\n",
    "| b  | Blue    |     9   |          3 | Dima      | no        |\n",
    "| c  | Orange  |    16.5 |          2 | Katherine | yes       |\n",
    "| d  | Red     |   nan   |          3 | James     | no        |\n",
    "| e  | White   |     9   |          2 | Emily     | no        |\n",
    "| f  | White   |    20   |          3 | Michael   | yes       |\n",
    "| g  | Blue    |    14.5 |          1 | Matthew   | yes       |\n",
    "| h  | Green   |   nan   |          1 | Laura     | no        |\n",
    "| i  | Green   |     8   |          2 | Kevin     | no        |\n",
    "| j  | Red     |    19   |          1 | Jonas     | yes       |"
   ]
  },
  {
   "cell_type": "code",
   "execution_count": null,
   "metadata": {},
   "outputs": [],
   "source": [
    "# заметьте, исходную таблицу эта операция не поменяет\n",
    "# требуется создать новую\n",
    "\n",
    "df_new_order = df[[____, ____, ____, ____, ____]]\n",
    "df_new_order"
   ]
  },
  {
   "cell_type": "code",
   "execution_count": null,
   "metadata": {},
   "outputs": [],
   "source": [
    "assert str(df_new_order) == \"    color  score  attempts       name qualify\\na     Red   12.5         1  Anastasia     yes\\nb    Blue    9.0         3       Dima      no\\nc  Orange   16.5         2  Katherine     yes\\nd     Red    NaN         3      James      no\\ne   White    9.0         2      Emily      no\\nf   White   20.0         3    Michael     yes\\ng    Blue   14.5         1    Matthew     yes\\nh   Green    NaN         1      Laura      no\\ni   Green    8.0         2      Kevin      no\\nj     Red   19.0         1      Jonas     yes\""
   ]
  }
 ],
 "metadata": {
  "kernelspec": {
   "display_name": "Python 3 (ipykernel)",
   "language": "python",
   "name": "python3"
  },
  "language_info": {
   "codemirror_mode": {
    "name": "ipython",
    "version": 3
   },
   "file_extension": ".py",
   "mimetype": "text/x-python",
   "name": "python",
   "nbconvert_exporter": "python",
   "pygments_lexer": "ipython3",
   "version": "3.10.8"
  },
  "vscode": {
   "interpreter": {
    "hash": "7b1f2b33e866b0bf2409397e5f58ba9cdf170d3b7f64c8f359c79998e2f88ad4"
   }
  }
 },
 "nbformat": 4,
 "nbformat_minor": 4
}
