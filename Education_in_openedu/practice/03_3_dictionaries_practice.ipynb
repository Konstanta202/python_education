{
 "cells": [
  {
   "cell_type": "markdown",
   "metadata": {},
   "source": [
    "# 1. Заполнение словаря\n",
    "Создайте словарь, используя все данные переменные ниже и заполнив пропуски `____`\n",
    "\n",
    "Помните, что словари можно создавать несколькими способами. Прочтите лонгрид и/или погуглите их"
   ]
  },
  {
   "cell_type": "code",
   "execution_count": 1,
   "metadata": {
    "editable": false,
    "ExecuteTime": {
     "end_time": "2024-10-29T21:41:36.071880Z",
     "start_time": "2024-10-29T21:41:36.066768Z"
    }
   },
   "outputs": [],
   "source": [
    "first_name = 'John'\n",
    "last_name = 'Doe'\n",
    "favorite_hobby = 'Python'\n",
    "sports_hobby = 'gym'\n",
    "age = 82"
   ]
  },
  {
   "cell_type": "code",
   "execution_count": 2,
   "metadata": {
    "ExecuteTime": {
     "end_time": "2024-10-29T21:41:36.080245Z",
     "start_time": "2024-10-29T21:41:36.073816Z"
    }
   },
   "outputs": [],
   "source": [
    "# Ваше решение\n",
    "my_dict = {'name' : first_name + ' ' + last_name, 'age' : age, 'hobbies': [favorite_hobby,sports_hobby]}"
   ]
  },
  {
   "cell_type": "code",
   "execution_count": 3,
   "metadata": {
    "ExecuteTime": {
     "end_time": "2024-10-29T21:41:36.084170Z",
     "start_time": "2024-10-29T21:41:36.079264Z"
    }
   },
   "outputs": [],
   "source": [
    "assert my_dict == {\n",
    "        'name': 'John Doe',\n",
    "        'age': 82,\n",
    "        'hobbies': ['Python', 'gym']\n",
    "    }"
   ]
  },
  {
   "cell_type": "markdown",
   "metadata": {},
   "source": [
    "# 2. Доступ к элементам словаря и слияние\n",
    "Соедините `dict1`, `dict2` и `dict3` в `my_dict`. Присвойте значение  `special_key` из `my_dict` переменной `special_value`. Не модифицируйте исходные словари, удалите `special_key` из словаря `my_dict`."
   ]
  },
  {
   "cell_type": "code",
   "execution_count": 4,
   "metadata": {
    "ExecuteTime": {
     "end_time": "2024-10-29T21:41:36.212819Z",
     "start_time": "2024-10-29T21:41:36.205400Z"
    }
   },
   "outputs": [],
   "source": [
    "dict1 = dict(key1='This is not that hard', key2='Python is still cool')\n",
    "dict2 = {'key1': 123, 'special_key': 'secret'}\n",
    "# This is also a away to initialize a dict (list of tuples) \n",
    "dict3 = dict([('key2', 456), ('keyX', 'X')])"
   ]
  },
  {
   "cell_type": "code",
   "execution_count": 5,
   "metadata": {
    "ExecuteTime": {
     "end_time": "2024-10-29T21:41:36.441408Z",
     "start_time": "2024-10-29T21:41:36.436762Z"
    }
   },
   "outputs": [],
   "source": [
    "# Ваше решение\n",
    "my_dict = dict([('key1',123),('key2', 456), ('keyX', 'X')])\n",
    "special_value = dict2.get('special_key')\n"
   ]
  },
  {
   "cell_type": "markdown",
   "source": [],
   "metadata": {
    "collapsed": false
   }
  },
  {
   "cell_type": "code",
   "execution_count": 6,
   "metadata": {
    "ExecuteTime": {
     "end_time": "2024-10-29T21:41:36.926490Z",
     "start_time": "2024-10-29T21:41:36.920900Z"
    }
   },
   "outputs": [],
   "source": [
    "assert my_dict == {'key1': 123, 'key2': 456, 'keyX': 'X'}\n",
    "assert special_value == 'secret'\n",
    "\n",
    "# проверим, что Вы не изменили исходные словари\n",
    "assert dict1 == {\n",
    "        'key1': 'This is not that hard',\n",
    "        'key2': 'Python is still cool'\n",
    "    }\n",
    "assert dict2 == {'key1': 123, 'special_key': 'secret'}\n",
    "assert dict3 == {'key2': 456, 'keyX': 'X'}"
   ]
  },
  {
   "cell_type": "code",
   "outputs": [],
   "source": [],
   "metadata": {
    "collapsed": false,
    "ExecuteTime": {
     "end_time": "2024-10-29T21:41:37.199456Z",
     "start_time": "2024-10-29T21:41:37.197876Z"
    }
   },
   "execution_count": 6
  },
  {
   "cell_type": "code",
   "outputs": [],
   "source": [],
   "metadata": {
    "collapsed": false,
    "ExecuteTime": {
     "end_time": "2024-10-29T21:41:37.688997Z",
     "start_time": "2024-10-29T21:41:37.686256Z"
    }
   },
   "execution_count": 6
  },
  {
   "cell_type": "code",
   "outputs": [],
   "source": [],
   "metadata": {
    "collapsed": false
   }
  }
 ],
 "metadata": {
  "celltoolbar": "Edit Metadata",
  "kernelspec": {
   "display_name": "Python 3 (ipykernel)",
   "language": "python",
   "name": "python3"
  },
  "language_info": {
   "codemirror_mode": {
    "name": "ipython",
    "version": 3
   },
   "file_extension": ".py",
   "mimetype": "text/x-python",
   "name": "python",
   "nbconvert_exporter": "python",
   "pygments_lexer": "ipython3",
   "version": "3.10.2"
  }
 },
 "nbformat": 4,
 "nbformat_minor": 1
}
