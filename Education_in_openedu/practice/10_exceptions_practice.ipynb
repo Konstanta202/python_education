{
 "cells": [
  {
   "cell_type": "markdown",
   "metadata": {},
   "source": [
    "# 1. Работа с исключениями\n",
    "Замените пропуски `____` ниже. \n",
    "\n",
    "Функция `sum_of_list` в качестве аргумента принимает список и вычисляет сумму значений в нём. \n",
    "\n",
    "Однако если при при приобразованию элемента списка в тип `float` возникает исключение, он не должен учитываться при подсчёте этой суммы.\n",
    "\n",
    "В примерах ниже может возникнуть TypeError или ValueError при вызовые функции `float`. Поэтому можно или обработать их по очереди, или заменить пропуск `____`, обработав более общий тип исключений"
   ]
  },
  {
   "cell_type": "code",
   "execution_count": 7,
   "metadata": {
    "ExecuteTime": {
     "end_time": "2024-11-05T22:20:50.931465Z",
     "start_time": "2024-11-05T22:20:50.930922Z"
    }
   },
   "outputs": [],
   "source": [
    "def sum_of_list(values):\n",
    "    # мы должны куда-то суммировать наши значения\n",
    "    sum = 0\n",
    "    for val in values:\n",
    "        # вспоминайте, какую конструкцию мы использовали при работе с исключениями\n",
    "        try:\n",
    "            numeric_val = float(val)\n",
    "            sum += numeric_val\n",
    "        # ниже - что-то про перехват и обработку исключений\n",
    "        except Exception as e:\n",
    "            continue\n",
    "    return sum"
   ]
  },
  {
   "cell_type": "code",
   "execution_count": 8,
   "metadata": {
    "ExecuteTime": {
     "end_time": "2024-11-05T22:20:51.788706Z",
     "start_time": "2024-11-05T22:20:51.781416Z"
    }
   },
   "outputs": [],
   "source": [
    "# чем дальше - тем более \"непохожие\" на числа элементы лежат в списках\n",
    "list1 = [1, 2, 3]\n",
    "list2 = ['1', 2.5, '3.0']\n",
    "list3 = ['', '1']\n",
    "list4 = []\n",
    "list5 = ['John', 'Doe', 'was', 'here']\n",
    "nasty_list = [KeyError(), [], dict()]\n",
    "\n",
    "assert sum_of_list(list1) == 6\n",
    "assert sum_of_list(list2) == 6.5\n",
    "assert sum_of_list(list3) == 1\n",
    "assert sum_of_list(list4) == 0\n",
    "assert sum_of_list(list5) == 0\n",
    "assert sum_of_list(nasty_list) == 0"
   ]
  },
  {
   "cell_type": "markdown",
   "metadata": {},
   "source": [
    "# 2. Использование собственных исключений\n",
    "\n",
    "Реализуйте функцию `verify_short_string`, которая принимает в качестве аргумента строку.\n",
    "Если длина этой строки больше 10 символов (без учёта пробелов!), функция должна вызывать исключение `TooLongString`\n",
    "Функция при этом не возвращает никаких значений (т.е. возвращает `None`).\n",
    "\n",
    "В первом блоке ниже вам нужно будет создать собственное исключение `TooLongString` - т.е. полноценный класс, который наследуется от `Exception`. \n",
    "\n",
    "\n",
    "The function does not have to return anything."
   ]
  },
  {
   "cell_type": "code",
   "execution_count": 13,
   "metadata": {
    "ExecuteTime": {
     "end_time": "2024-11-05T22:28:06.540320Z",
     "start_time": "2024-11-05T22:28:06.525516Z"
    }
   },
   "outputs": [],
   "source": [
    "class TooLongString(Exception):\n",
    "    def __init__(self,error):\n",
    "        self.error = error\n",
    "    \n",
    "    # тут определите класс TooLongString"
   ]
  },
  {
   "cell_type": "code",
   "execution_count": 14,
   "metadata": {
    "ExecuteTime": {
     "end_time": "2024-11-05T22:28:06.927451Z",
     "start_time": "2024-11-05T22:28:06.924985Z"
    }
   },
   "outputs": [],
   "source": [
    "def verify_short_string(string):\n",
    "    if len(string.strip()) > 10:\n",
    "        raise TooLongString('Too long string')\n",
    "        # а тут - саму функцию, внутри которой будет вызываться исключение TooLongString"
   ]
  },
  {
   "cell_type": "code",
   "execution_count": 15,
   "metadata": {
    "ExecuteTime": {
     "end_time": "2024-11-05T22:28:07.363862Z",
     "start_time": "2024-11-05T22:28:07.359527Z"
    }
   },
   "outputs": [],
   "source": [
    "# здесь исключение не должно вызываться\n",
    "verify_short_string('short') \n",
    "\n",
    "# тут - тоже\n",
    "verify_short_string('10   chars')"
   ]
  },
  {
   "cell_type": "code",
   "execution_count": 16,
   "metadata": {
    "ExecuteTime": {
     "end_time": "2024-11-05T22:28:07.652486Z",
     "start_time": "2024-11-05T22:28:07.644325Z"
    }
   },
   "outputs": [
    {
     "name": "stdout",
     "output_type": "stream",
     "text": [
      "Всё ок! Исключение обработалось\n"
     ]
    }
   ],
   "source": [
    "# а вот тут уже - должны. Поэтому появляется обработчик этого исключения\n",
    "try:\n",
    "    verify_short_string('this is long')\n",
    "    \n",
    "except TooLongString as e:\n",
    "    print(\"Всё ок! Исключение обработалось\")\n",
    "    pass\n",
    "\n",
    "else:\n",
    "    print(\"Исключение не обработалось :(\\nИщите ошибку\")\n",
    "    assert False "
   ]
  },
  {
   "cell_type": "code",
   "outputs": [],
   "source": [],
   "metadata": {
    "collapsed": false
   }
  }
 ],
 "metadata": {
  "kernelspec": {
   "display_name": "Python 3 (ipykernel)",
   "language": "python",
   "name": "python3"
  },
  "language_info": {
   "codemirror_mode": {
    "name": "ipython",
    "version": 3
   },
   "file_extension": ".py",
   "mimetype": "text/x-python",
   "name": "python",
   "nbconvert_exporter": "python",
   "pygments_lexer": "ipython3",
   "version": "3.10.2"
  }
 },
 "nbformat": 4,
 "nbformat_minor": 4
}
