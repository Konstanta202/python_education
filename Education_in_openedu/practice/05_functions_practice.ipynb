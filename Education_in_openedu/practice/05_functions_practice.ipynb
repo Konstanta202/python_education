{
 "cells": [
  {
   "cell_type": "markdown",
   "metadata": {},
   "source": [
    "# 1. Заполните пропуски в функции `count_even_numbers`\n",
    "Заполните пропуски `____` в реализации функции `count_even_numbers` так, чтобы пройти все проверки `assert` ниже. \n",
    "Считайте, что аргумент `numbers` - это список, состоящий из целых чисел (**int**)."
   ]
  },
  {
   "cell_type": "code",
   "execution_count": 1,
   "metadata": {
    "ExecuteTime": {
     "end_time": "2024-11-03T23:27:53.881142Z",
     "start_time": "2024-11-03T23:27:53.875917Z"
    }
   },
   "outputs": [],
   "source": [
    "def count_even_numbers(numbers):\n",
    "    count = 0\n",
    "    for num in numbers:\n",
    "        if num % 2 == 0:\n",
    "            count += 1\n",
    "    return count"
   ]
  },
  {
   "cell_type": "code",
   "execution_count": 2,
   "metadata": {
    "ExecuteTime": {
     "end_time": "2024-11-03T23:27:53.888269Z",
     "start_time": "2024-11-03T23:27:53.882724Z"
    }
   },
   "outputs": [],
   "source": [
    "assert count_even_numbers([1, 2, 3, 4, 5, 6]) == 3\n",
    "assert count_even_numbers([1, 3, 5, 7]) == 0\n",
    "assert count_even_numbers([-2, 2, -10, 8]) == 4"
   ]
  },
  {
   "cell_type": "markdown",
   "metadata": {},
   "source": [
    "# 2. Поиск разыскиваемых преступникомв Searching for wanted people\n",
    "Создайте функцию `find_wanted_people`, которая принимает на вход список имён (строк) в качестве аргумента. \n",
    "\n",
    "Функция должна возвращать список имён, которые одновременно есть в списке `WANTED_PEOPLE` и в списке, который Вы передали функции в качестве аргумента."
   ]
  },
  {
   "cell_type": "code",
   "execution_count": 3,
   "metadata": {
    "ExecuteTime": {
     "end_time": "2024-11-03T23:27:56.539400Z",
     "start_time": "2024-11-03T23:27:56.532628Z"
    }
   },
   "outputs": [],
   "source": [
    "WANTED_PEOPLE = ['John Doe', 'Clint Eastwood', 'Chuck Norris']"
   ]
  },
  {
   "cell_type": "code",
   "execution_count": 4,
   "metadata": {
    "ExecuteTime": {
     "end_time": "2024-11-03T23:27:57.054610Z",
     "start_time": "2024-11-03T23:27:57.047261Z"
    }
   },
   "outputs": [],
   "source": [
    "# Ваше решение\n",
    "def find_wanted_people(people_to_check):\n",
    "    result = []\n",
    "    WANTED_PEOPLE = ['John Doe', 'Clint Eastwood', 'Chuck Norris']\n",
    "    for person in people_to_check:\n",
    "        if person in WANTED_PEOPLE:\n",
    "            result.append(person)\n",
    "    \n",
    "    return result"
   ]
  },
  {
   "cell_type": "code",
   "execution_count": 5,
   "metadata": {
    "ExecuteTime": {
     "end_time": "2024-11-03T23:27:57.632180Z",
     "start_time": "2024-11-03T23:27:57.629510Z"
    }
   },
   "outputs": [],
   "source": [
    "people_to_check1 = ['Donald Duck', 'Clint Eastwood', 'John Doe', 'Barack Obama']\n",
    "wanted1 = find_wanted_people(people_to_check1)\n",
    "assert len(wanted1) == 2\n",
    "assert 'John Doe' in wanted1\n",
    "assert 'Clint Eastwood' in wanted1"
   ]
  },
  {
   "cell_type": "code",
   "execution_count": 6,
   "metadata": {
    "ExecuteTime": {
     "end_time": "2024-11-03T23:27:58.495895Z",
     "start_time": "2024-11-03T23:27:58.489479Z"
    }
   },
   "outputs": [],
   "source": [
    "people_to_check2 = ['Donald Duck', 'Mickey Mouse', 'Zorro', 'Superman', 'Robin Hood']\n",
    "wanted2 = find_wanted_people(people_to_check2)\n",
    "assert wanted2 == []"
   ]
  },
  {
   "cell_type": "markdown",
   "metadata": {},
   "source": [
    "# 3. Вычисление средней длины слов в предложении\n",
    "Создайте функцию `average_length_of_words`, которая в качестве аргумента принимает строку и возвращает среднюю длину слова в этой строке. \n",
    "\n",
    "Пусть в каждой строке слова разделяет только одиночный пробел \" \" и отсутствуют знаки пунктуации.\n",
    "\n",
    "Округлите результат до одной значащей цифры (см. описание функции [`round` по ссылке](https://docs.python.org/3/library/functions.html#round))."
   ]
  },
  {
   "cell_type": "code",
   "execution_count": 7,
   "metadata": {
    "ExecuteTime": {
     "end_time": "2024-11-03T23:27:59.626493Z",
     "start_time": "2024-11-03T23:27:59.621820Z"
    }
   },
   "outputs": [
    {
     "name": "stdout",
     "output_type": "stream",
     "text": [
      "3.7\n"
     ]
    }
   ],
   "source": [
    "# Ваше решение\n",
    "\n",
    "def average_length_of_words(s):\n",
    "    l = s.split(\" \")\n",
    "    l_lengths = list(map(lambda string: len(string), l))\n",
    "    result = round(sum(l_lengths) / len(l),1)\n",
    "    return result\n",
    "print(average_length_of_words('one two three'))"
   ]
  },
  {
   "cell_type": "code",
   "execution_count": 8,
   "metadata": {
    "ExecuteTime": {
     "end_time": "2024-11-03T23:28:00.414430Z",
     "start_time": "2024-11-03T23:28:00.409351Z"
    }
   },
   "outputs": [],
   "source": [
    "\n",
    "\n",
    "assert average_length_of_words('only four lett erwo rdss') == 4\n",
    "assert average_length_of_words('one two three') == 3.7\n",
    "assert average_length_of_words('one two three four') == 3.8\n",
    "assert average_length_of_words('') == 0"
   ]
  },
  {
   "cell_type": "code",
   "outputs": [
    {
     "name": "stdout",
     "output_type": "stream",
     "text": [
      "2.9411699999999996\n"
     ]
    }
   ],
   "source": [
    "\n",
    "def zamena_setevuhi(n: int, p: float) -> float:\n",
    "  \"\"\"n - количество сетевух\\n\n",
    "     p - вероятность дефекта\n",
    "  \"\"\"\n",
    "  mathWait: float = 0\n",
    "  for i in range(1, n+1):\n",
    "    mathWait += (i)*(1-p)*p**(i-1)\n",
    "  mathWait += n*p**n\n",
    "  return mathWait\n",
    "print(zamena_setevuhi(6, 0.7))"
   ],
   "metadata": {
    "collapsed": false,
    "ExecuteTime": {
     "end_time": "2024-11-03T23:28:01.066468Z",
     "start_time": "2024-11-03T23:28:01.063075Z"
    }
   },
   "execution_count": 9
  },
  {
   "cell_type": "code",
   "outputs": [],
   "source": [],
   "metadata": {
    "collapsed": false,
    "ExecuteTime": {
     "end_time": "2024-10-29T21:44:54.320104Z",
     "start_time": "2024-10-29T21:44:54.316770Z"
    }
   },
   "execution_count": 12
  },
  {
   "cell_type": "code",
   "outputs": [],
   "source": [],
   "metadata": {
    "collapsed": false
   }
  }
 ],
 "metadata": {
  "kernelspec": {
   "display_name": "Python 3 (ipykernel)",
   "language": "python",
   "name": "python3"
  },
  "language_info": {
   "codemirror_mode": {
    "name": "ipython",
    "version": 3
   },
   "file_extension": ".py",
   "mimetype": "text/x-python",
   "name": "python",
   "nbconvert_exporter": "python",
   "pygments_lexer": "ipython3",
   "version": "3.10.2"
  }
 },
 "nbformat": 4,
 "nbformat_minor": 2
}
