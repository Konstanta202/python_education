{
 "cells": [
  {
   "cell_type": "markdown",
   "source": [
    "# `if-elif-else`\n",
    "Заполните пропуски (`____`) так, чтобы выводимые функцией `print` строки были осмысленными.\n",
    "\n",
    "Выражение `if-elif-else` при этом возвращает разные строки в зависимости от длины строки name\n",
    "\n",
    "Когда Вы выполните задание, попробуйте подставить строки разной длины в переменную `name`, чтобы блок `if-elif-else` вернул Вам разные ответы"
   ],
   "metadata": {
    "collapsed": false
   }
  },
  {
   "cell_type": "code",
   "outputs": [
    {
     "ename": "ValueError",
     "evalue": "not enough values to unpack (expected 3, got 1)",
     "output_type": "error",
     "traceback": [
      "\u001B[0;31m---------------------------------------------------------------------------\u001B[0m",
      "\u001B[0;31mValueError\u001B[0m                                Traceback (most recent call last)",
      "Cell \u001B[0;32mIn[1], line 1\u001B[0m\n\u001B[0;32m----> 1\u001B[0m x, y, z \u001B[38;5;241m=\u001B[39m \u001B[38;5;28minput\u001B[39m()\u001B[38;5;241m.\u001B[39mstrip()\u001B[38;5;241m.\u001B[39msplit()\n\u001B[1;32m      2\u001B[0m \u001B[38;5;28mprint\u001B[39m(x,y,z)\n",
      "\u001B[0;31mValueError\u001B[0m: not enough values to unpack (expected 3, got 1)"
     ]
    }
   ],
   "source": [
    "x, y, z = input().strip().split()\n",
    "print(x,y,z)"
   ],
   "metadata": {
    "collapsed": false,
    "ExecuteTime": {
     "end_time": "2024-10-29T21:42:14.228160Z",
     "start_time": "2024-10-29T21:42:07.239505Z"
    }
   },
   "execution_count": 1
  },
  {
   "cell_type": "code",
   "outputs": [],
   "source": [
    "name = 'John Doe'"
   ],
   "metadata": {
    "collapsed": false,
    "ExecuteTime": {
     "end_time": "2024-10-29T21:42:14.229443Z",
     "start_time": "2024-10-29T21:42:14.228696Z"
    }
   },
   "execution_count": null
  },
  {
   "cell_type": "code",
   "execution_count": 19,
   "metadata": {
    "ExecuteTime": {
     "end_time": "2024-10-20T14:52:08.446117Z",
     "start_time": "2024-10-20T14:52:08.438677Z"
    }
   },
   "outputs": [
    {
     "name": "stdout",
     "output_type": "stream",
     "text": [
      "Name \"John Doe\" is 8, 9 or 10 chars long\n"
     ]
    }
   ],
   "source": [
    "if len(name) > 20:\n",
    "    # символ f перед строкой позволяет подставлять в неё значения переменных, если записать их в фигурных скобках\n",
    "    print(f'Name \"{name}\" is more than 20 chars long')\n",
    "    length_description = 'long'\n",
    "elif len(name) > 20:\n",
    "    print(f'Name \"{name}\" is more than 15 chars long')\n",
    "    length_description = 'semi long'\n",
    "elif len(name) > 10:\n",
    "    print(f'Name \"{name}\" is more than 10 chars long')\n",
    "    length_description = 'semi long'\n",
    "elif len(name) >= 8 or name.len() == 10 :\n",
    "    print(f'Name \"{name}\" is 8, 9 or 10 chars long')\n",
    "    length_description = 'semi short'\n",
    "else:\n",
    "    print(f'Name \"{name}\" is a short name')\n",
    "    length_description = 'short'"
   ]
  },
  {
   "cell_type": "code",
   "execution_count": 20,
   "metadata": {
    "ExecuteTime": {
     "end_time": "2024-10-20T14:52:10.439862Z",
     "start_time": "2024-10-20T14:52:10.436067Z"
    }
   },
   "outputs": [],
   "source": [
    "# проверим\n",
    "assert length_description == 'semi short'"
   ]
  },
  {
   "cell_type": "code",
   "outputs": [],
   "source": [],
   "metadata": {
    "collapsed": false,
    "ExecuteTime": {
     "end_time": "2024-10-20T14:52:12.638407Z",
     "start_time": "2024-10-20T14:52:12.632911Z"
    }
   },
   "execution_count": 20
  }
 ],
 "metadata": {
  "celltoolbar": "Edit Metadata",
  "kernelspec": {
   "display_name": "Python 3 (ipykernel)",
   "language": "python",
   "name": "python3"
  },
  "language_info": {
   "codemirror_mode": {
    "name": "ipython",
    "version": 3
   },
   "file_extension": ".py",
   "mimetype": "text/x-python",
   "name": "python",
   "nbconvert_exporter": "python",
   "pygments_lexer": "ipython3",
   "version": "3.10.2"
  }
 },
 "nbformat": 4,
 "nbformat_minor": 2
}
